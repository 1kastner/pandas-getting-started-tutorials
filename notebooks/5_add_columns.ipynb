{
 "cells": [
  {
   "cell_type": "markdown",
   "metadata": {},
   "source": [
    "\n",
    "Objectives\n",
    "\n",
    "- Add a new column to a DataFrame with a chosen name\n",
    "- Understand that operations work element-wise (no loops required)\n",
    "- Rename an existing column\n",
    "\n",
    "Content to cover\n",
    "\n",
    "- df[“...”] = f(other column)\n",
    "- df[“...”] = f(other columns), eg. df[“...”]  + df[“...”]\n",
    "- df.rename\n"
   ]
  },
  {
   "cell_type": "code",
   "execution_count": 15,
   "metadata": {},
   "outputs": [],
   "source": [
    "import pandas as pd\n",
    "import numpy as np\n",
    "import matplotlib.pyplot as plt\n",
    "%matplotlib inline"
   ]
  },
  {
   "cell_type": "code",
   "execution_count": 16,
   "metadata": {},
   "outputs": [
    {
     "data": {
      "text/html": [
       "<div>\n",
       "<style scoped>\n",
       "    .dataframe tbody tr th:only-of-type {\n",
       "        vertical-align: middle;\n",
       "    }\n",
       "\n",
       "    .dataframe tbody tr th {\n",
       "        vertical-align: top;\n",
       "    }\n",
       "\n",
       "    .dataframe thead th {\n",
       "        text-align: right;\n",
       "    }\n",
       "</style>\n",
       "<table border=\"1\" class=\"dataframe\">\n",
       "  <thead>\n",
       "    <tr style=\"text-align: right;\">\n",
       "      <th></th>\n",
       "      <th>station_antwerp</th>\n",
       "      <th>station_paris</th>\n",
       "      <th>station_london</th>\n",
       "    </tr>\n",
       "    <tr>\n",
       "      <th>datetime</th>\n",
       "      <th></th>\n",
       "      <th></th>\n",
       "      <th></th>\n",
       "    </tr>\n",
       "  </thead>\n",
       "  <tbody>\n",
       "    <tr>\n",
       "      <th>2019-04-04 03:00:00</th>\n",
       "      <td>37.5</td>\n",
       "      <td>44.5</td>\n",
       "      <td>20.0</td>\n",
       "    </tr>\n",
       "    <tr>\n",
       "      <th>2019-04-04 04:00:00</th>\n",
       "      <td>31.5</td>\n",
       "      <td>44.8</td>\n",
       "      <td>20.0</td>\n",
       "    </tr>\n",
       "    <tr>\n",
       "      <th>2019-04-04 05:00:00</th>\n",
       "      <td>NaN</td>\n",
       "      <td>35.7</td>\n",
       "      <td>19.0</td>\n",
       "    </tr>\n",
       "    <tr>\n",
       "      <th>2019-04-04 06:00:00</th>\n",
       "      <td>NaN</td>\n",
       "      <td>53.6</td>\n",
       "      <td>19.0</td>\n",
       "    </tr>\n",
       "    <tr>\n",
       "      <th>2019-04-04 07:00:00</th>\n",
       "      <td>NaN</td>\n",
       "      <td>63.2</td>\n",
       "      <td>32.0</td>\n",
       "    </tr>\n",
       "  </tbody>\n",
       "</table>\n",
       "</div>"
      ],
      "text/plain": [
       "                     station_antwerp  station_paris  station_london\n",
       "datetime                                                           \n",
       "2019-04-04 03:00:00             37.5           44.5            20.0\n",
       "2019-04-04 04:00:00             31.5           44.8            20.0\n",
       "2019-04-04 05:00:00              NaN           35.7            19.0\n",
       "2019-04-04 06:00:00              NaN           53.6            19.0\n",
       "2019-04-04 07:00:00              NaN           63.2            32.0"
      ]
     },
     "execution_count": 16,
     "metadata": {},
     "output_type": "execute_result"
    }
   ],
   "source": [
    "air_quality = pd.read_csv(\"../data/air_quality_no2.csv\", \n",
    "                          index_col=0, parse_dates=True)\n",
    "air_quality.head()"
   ]
  },
  {
   "cell_type": "markdown",
   "metadata": {},
   "source": [
    "## Add new column"
   ]
  },
  {
   "cell_type": "markdown",
   "metadata": {},
   "source": [
    "![](../schemas/05_newcolumn_1.svg)"
   ]
  },
  {
   "cell_type": "markdown",
   "metadata": {},
   "source": [
    "> I want to express the $NO_2$ concentration of the station in London in mg/m$^3$"
   ]
  },
  {
   "cell_type": "markdown",
   "metadata": {},
   "source": [
    "(Assume temperature of 25 degrees Celsius and pressure of 1013 hPa. The molecular weight of $NO_2$ is 46.01 g/mol, resulting in 1 ppm $NO_2$ being equivalent to 1.882 mg/m$^3$)"
   ]
  },
  {
   "cell_type": "code",
   "execution_count": 19,
   "metadata": {},
   "outputs": [
    {
     "data": {
      "text/html": [
       "<div>\n",
       "<style scoped>\n",
       "    .dataframe tbody tr th:only-of-type {\n",
       "        vertical-align: middle;\n",
       "    }\n",
       "\n",
       "    .dataframe tbody tr th {\n",
       "        vertical-align: top;\n",
       "    }\n",
       "\n",
       "    .dataframe thead th {\n",
       "        text-align: right;\n",
       "    }\n",
       "</style>\n",
       "<table border=\"1\" class=\"dataframe\">\n",
       "  <thead>\n",
       "    <tr style=\"text-align: right;\">\n",
       "      <th></th>\n",
       "      <th>station_antwerp</th>\n",
       "      <th>station_paris</th>\n",
       "      <th>station_london</th>\n",
       "      <th>london_mg_per_cubic</th>\n",
       "    </tr>\n",
       "    <tr>\n",
       "      <th>datetime</th>\n",
       "      <th></th>\n",
       "      <th></th>\n",
       "      <th></th>\n",
       "      <th></th>\n",
       "    </tr>\n",
       "  </thead>\n",
       "  <tbody>\n",
       "    <tr>\n",
       "      <th>2019-04-04 03:00:00</th>\n",
       "      <td>37.5</td>\n",
       "      <td>44.5</td>\n",
       "      <td>20.0</td>\n",
       "      <td>37.640</td>\n",
       "    </tr>\n",
       "    <tr>\n",
       "      <th>2019-04-04 04:00:00</th>\n",
       "      <td>31.5</td>\n",
       "      <td>44.8</td>\n",
       "      <td>20.0</td>\n",
       "      <td>37.640</td>\n",
       "    </tr>\n",
       "    <tr>\n",
       "      <th>2019-04-04 05:00:00</th>\n",
       "      <td>NaN</td>\n",
       "      <td>35.7</td>\n",
       "      <td>19.0</td>\n",
       "      <td>35.758</td>\n",
       "    </tr>\n",
       "    <tr>\n",
       "      <th>2019-04-04 06:00:00</th>\n",
       "      <td>NaN</td>\n",
       "      <td>53.6</td>\n",
       "      <td>19.0</td>\n",
       "      <td>35.758</td>\n",
       "    </tr>\n",
       "    <tr>\n",
       "      <th>2019-04-04 07:00:00</th>\n",
       "      <td>NaN</td>\n",
       "      <td>63.2</td>\n",
       "      <td>32.0</td>\n",
       "      <td>60.224</td>\n",
       "    </tr>\n",
       "  </tbody>\n",
       "</table>\n",
       "</div>"
      ],
      "text/plain": [
       "                     station_antwerp  station_paris  station_london  \\\n",
       "datetime                                                              \n",
       "2019-04-04 03:00:00             37.5           44.5            20.0   \n",
       "2019-04-04 04:00:00             31.5           44.8            20.0   \n",
       "2019-04-04 05:00:00              NaN           35.7            19.0   \n",
       "2019-04-04 06:00:00              NaN           53.6            19.0   \n",
       "2019-04-04 07:00:00              NaN           63.2            32.0   \n",
       "\n",
       "                     london_mg_per_cubic  \n",
       "datetime                                  \n",
       "2019-04-04 03:00:00               37.640  \n",
       "2019-04-04 04:00:00               37.640  \n",
       "2019-04-04 05:00:00               35.758  \n",
       "2019-04-04 06:00:00               35.758  \n",
       "2019-04-04 07:00:00               60.224  "
      ]
     },
     "execution_count": 19,
     "metadata": {},
     "output_type": "execute_result"
    }
   ],
   "source": [
    "air_quality[\"london_mg_per_cubic\"] = air_quality[\"station_london\"] * 1.882\n",
    "air_quality.head()"
   ]
  },
  {
   "cell_type": "markdown",
   "metadata": {},
   "source": [
    "To create a new column, use the `[]` brackets with the new column name at the left side of the assignment. When familiar to Python dictionaries, the syntax will feel similar."
   ]
  },
  {
   "cell_type": "markdown",
   "metadata": {},
   "source": [
    "<div class=\"alert alert-info\">\n",
    "    \n",
    "__Note__: The calculation of the values is done __element_wise__. This means all values in the given column are multiplied by the value 1.882 at once. You do not need to use a loop to iterate each of the rows!\n",
    "\n",
    "</div>"
   ]
  },
  {
   "cell_type": "markdown",
   "metadata": {},
   "source": [
    "![](../schemas/05_newcolumn_2.svg)"
   ]
  },
  {
   "cell_type": "markdown",
   "metadata": {},
   "source": [
    "> I want to check the ratio of the values in Paris versus Antwerp and save the result in a new column"
   ]
  },
  {
   "cell_type": "code",
   "execution_count": 22,
   "metadata": {},
   "outputs": [
    {
     "data": {
      "text/html": [
       "<div>\n",
       "<style scoped>\n",
       "    .dataframe tbody tr th:only-of-type {\n",
       "        vertical-align: middle;\n",
       "    }\n",
       "\n",
       "    .dataframe tbody tr th {\n",
       "        vertical-align: top;\n",
       "    }\n",
       "\n",
       "    .dataframe thead th {\n",
       "        text-align: right;\n",
       "    }\n",
       "</style>\n",
       "<table border=\"1\" class=\"dataframe\">\n",
       "  <thead>\n",
       "    <tr style=\"text-align: right;\">\n",
       "      <th></th>\n",
       "      <th>station_antwerp</th>\n",
       "      <th>station_paris</th>\n",
       "      <th>station_london</th>\n",
       "      <th>london_mg_per_cubic</th>\n",
       "      <th>ratio_paris_antwerp</th>\n",
       "    </tr>\n",
       "    <tr>\n",
       "      <th>datetime</th>\n",
       "      <th></th>\n",
       "      <th></th>\n",
       "      <th></th>\n",
       "      <th></th>\n",
       "      <th></th>\n",
       "    </tr>\n",
       "  </thead>\n",
       "  <tbody>\n",
       "    <tr>\n",
       "      <th>2019-04-04 03:00:00</th>\n",
       "      <td>37.5</td>\n",
       "      <td>44.5</td>\n",
       "      <td>20.0</td>\n",
       "      <td>37.640</td>\n",
       "      <td>1.186667</td>\n",
       "    </tr>\n",
       "    <tr>\n",
       "      <th>2019-04-04 04:00:00</th>\n",
       "      <td>31.5</td>\n",
       "      <td>44.8</td>\n",
       "      <td>20.0</td>\n",
       "      <td>37.640</td>\n",
       "      <td>1.422222</td>\n",
       "    </tr>\n",
       "    <tr>\n",
       "      <th>2019-04-04 05:00:00</th>\n",
       "      <td>NaN</td>\n",
       "      <td>35.7</td>\n",
       "      <td>19.0</td>\n",
       "      <td>35.758</td>\n",
       "      <td>NaN</td>\n",
       "    </tr>\n",
       "    <tr>\n",
       "      <th>2019-04-04 06:00:00</th>\n",
       "      <td>NaN</td>\n",
       "      <td>53.6</td>\n",
       "      <td>19.0</td>\n",
       "      <td>35.758</td>\n",
       "      <td>NaN</td>\n",
       "    </tr>\n",
       "    <tr>\n",
       "      <th>2019-04-04 07:00:00</th>\n",
       "      <td>NaN</td>\n",
       "      <td>63.2</td>\n",
       "      <td>32.0</td>\n",
       "      <td>60.224</td>\n",
       "      <td>NaN</td>\n",
       "    </tr>\n",
       "  </tbody>\n",
       "</table>\n",
       "</div>"
      ],
      "text/plain": [
       "                     station_antwerp  station_paris  station_london  \\\n",
       "datetime                                                              \n",
       "2019-04-04 03:00:00             37.5           44.5            20.0   \n",
       "2019-04-04 04:00:00             31.5           44.8            20.0   \n",
       "2019-04-04 05:00:00              NaN           35.7            19.0   \n",
       "2019-04-04 06:00:00              NaN           53.6            19.0   \n",
       "2019-04-04 07:00:00              NaN           63.2            32.0   \n",
       "\n",
       "                     london_mg_per_cubic  ratio_paris_antwerp  \n",
       "datetime                                                       \n",
       "2019-04-04 03:00:00               37.640             1.186667  \n",
       "2019-04-04 04:00:00               37.640             1.422222  \n",
       "2019-04-04 05:00:00               35.758                  NaN  \n",
       "2019-04-04 06:00:00               35.758                  NaN  \n",
       "2019-04-04 07:00:00               60.224                  NaN  "
      ]
     },
     "execution_count": 22,
     "metadata": {},
     "output_type": "execute_result"
    }
   ],
   "source": [
    "air_quality[\"ratio_paris_antwerp\"] = air_quality[\"station_paris\"] / air_quality[\"station_antwerp\"]\n",
    "air_quality.head()"
   ]
  },
  {
   "cell_type": "markdown",
   "metadata": {},
   "source": [
    "The calculation is again element-wise, so the `/` is applied _for the values in each row_. Also other mathematical operators (+, -, *, /) or logical operators (<, >, =,...) work element wise. The latter was already used in the [subset data tutorial](./3_subset_data.ipynb) to filter rows of a table using a conditional expression."
   ]
  },
  {
   "cell_type": "markdown",
   "metadata": {},
   "source": [
    "> I want to add a new column with a given value"
   ]
  },
  {
   "cell_type": "code",
   "execution_count": 31,
   "metadata": {},
   "outputs": [],
   "source": [
    "air_quality[\"ID\"] = [\"ID_\" + str(value) for value in range(air_quality.shape[0])]"
   ]
  },
  {
   "cell_type": "code",
   "execution_count": 32,
   "metadata": {},
   "outputs": [
    {
     "data": {
      "text/plain": [
       "datetime\n",
       "2019-04-04 03:00:00       ID_0\n",
       "2019-04-04 04:00:00       ID_1\n",
       "2019-04-04 05:00:00       ID_2\n",
       "2019-04-04 06:00:00       ID_3\n",
       "2019-04-04 07:00:00       ID_4\n",
       "2019-04-04 08:00:00       ID_5\n",
       "2019-04-04 09:00:00       ID_6\n",
       "2019-04-04 10:00:00       ID_7\n",
       "2019-04-04 11:00:00       ID_8\n",
       "2019-04-04 12:00:00       ID_9\n",
       "2019-04-04 13:00:00      ID_10\n",
       "2019-04-04 14:00:00      ID_11\n",
       "2019-04-04 15:00:00      ID_12\n",
       "2019-04-04 16:00:00      ID_13\n",
       "2019-04-04 17:00:00      ID_14\n",
       "2019-04-04 18:00:00      ID_15\n",
       "2019-04-05 01:00:00      ID_16\n",
       "2019-04-05 03:00:00      ID_17\n",
       "2019-04-05 05:00:00      ID_18\n",
       "2019-04-05 06:00:00      ID_19\n",
       "2019-04-05 07:00:00      ID_20\n",
       "2019-04-05 08:00:00      ID_21\n",
       "2019-04-05 09:00:00      ID_22\n",
       "2019-04-05 13:00:00      ID_23\n",
       "2019-04-05 14:00:00      ID_24\n",
       "2019-04-05 15:00:00      ID_25\n",
       "2019-04-05 16:00:00      ID_26\n",
       "2019-04-05 17:00:00      ID_27\n",
       "2019-04-05 18:00:00      ID_28\n",
       "2019-04-05 19:00:00      ID_29\n",
       "                        ...   \n",
       "2019-06-17 23:00:00    ID_1785\n",
       "2019-06-18 00:00:00    ID_1786\n",
       "2019-06-18 01:00:00    ID_1787\n",
       "2019-06-18 02:00:00    ID_1788\n",
       "2019-06-18 03:00:00    ID_1789\n",
       "2019-06-18 04:00:00    ID_1790\n",
       "2019-06-18 05:00:00    ID_1791\n",
       "2019-06-18 06:00:00    ID_1792\n",
       "2019-06-18 07:00:00    ID_1793\n",
       "2019-06-18 08:00:00    ID_1794\n",
       "2019-06-18 09:00:00    ID_1795\n",
       "2019-06-18 10:00:00    ID_1796\n",
       "2019-06-18 21:00:00    ID_1797\n",
       "2019-06-18 22:00:00    ID_1798\n",
       "2019-06-18 23:00:00    ID_1799\n",
       "2019-06-19 00:00:00    ID_1800\n",
       "2019-06-19 11:00:00    ID_1801\n",
       "2019-06-19 12:00:00    ID_1802\n",
       "2019-06-20 15:00:00    ID_1803\n",
       "2019-06-20 16:00:00    ID_1804\n",
       "2019-06-20 17:00:00    ID_1805\n",
       "2019-06-20 18:00:00    ID_1806\n",
       "2019-06-20 19:00:00    ID_1807\n",
       "2019-06-20 20:00:00    ID_1808\n",
       "2019-06-20 21:00:00    ID_1809\n",
       "2019-06-20 22:00:00    ID_1810\n",
       "2019-06-20 23:00:00    ID_1811\n",
       "2019-06-21 00:00:00    ID_1812\n",
       "2019-06-21 01:00:00    ID_1813\n",
       "2019-06-21 02:00:00    ID_1814\n",
       "Name: ID, Length: 1815, dtype: object"
      ]
     },
     "execution_count": 32,
     "metadata": {},
     "output_type": "execute_result"
    }
   ],
   "source": [
    "air_quality[\"ID\"]"
   ]
  },
  {
   "cell_type": "markdown",
   "metadata": {},
   "source": [
    "## REMEMBER\n",
    "\n",
    "- Create a new column by assigning the output to the DataFrame with a new column name \n",
    "- Operations are element-wise\n",
    "- "
   ]
  },
  {
   "cell_type": "code",
   "execution_count": null,
   "metadata": {},
   "outputs": [],
   "source": []
  }
 ],
 "metadata": {
  "kernelspec": {
   "display_name": "Python 3",
   "language": "python",
   "name": "python3"
  },
  "language_info": {
   "codemirror_mode": {
    "name": "ipython",
    "version": 3
   },
   "file_extension": ".py",
   "mimetype": "text/x-python",
   "name": "python",
   "nbconvert_exporter": "python",
   "pygments_lexer": "ipython3",
   "version": "3.7.3"
  }
 },
 "nbformat": 4,
 "nbformat_minor": 2
}
